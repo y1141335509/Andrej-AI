{
 "cells": [
  {
   "cell_type": "code",
   "execution_count": null,
   "metadata": {},
   "outputs": [],
   "source": []
  },
  {
   "cell_type": "markdown",
   "metadata": {},
   "source": [
    "* paper - https://www.jmlr.org/papers/volume3/bengio03a/bengio03a.pdf\n",
    "* video - https://www.youtube.com/watch?v=TCH_1BHY58I\n",
    "\n",
    "上面的pdf就是 MLP 原paper。与我们即将code的MLP不同的是，原paper是在 词-level上进行的；而我们的code将会在 字母-level 上进行搭建 MLP。但是核心思想是一致的。\n",
    "\n",
    "### 0\n",
    "\n",
    "#### 0.0. 读数据"
   ]
  },
  {
   "cell_type": "code",
   "execution_count": 144,
   "metadata": {},
   "outputs": [],
   "source": [
    "import torch\n",
    "import torch.nn.functional as F\n",
    "import matplotlib.pyplot as plt\n",
    "%matplotlib inline"
   ]
  },
  {
   "cell_type": "code",
   "execution_count": 145,
   "metadata": {},
   "outputs": [
    {
     "data": {
      "text/plain": [
       "(['emma', 'olivia', 'ava', 'isabella', 'sophia', 'charlotte', 'mia', 'amelia'],\n",
       " 32033)"
      ]
     },
     "execution_count": 145,
     "metadata": {},
     "output_type": "execute_result"
    }
   ],
   "source": [
    "# read in all the words\n",
    "words = open('./names.txt', 'r').read().splitlines()\n",
    "words[:8], len(words)"
   ]
  },
  {
   "cell_type": "markdown",
   "metadata": {},
   "source": [
    "#### 0.1. 定义映射\n",
    "\n",
    "`stoi` 和 `itos`"
   ]
  },
  {
   "cell_type": "code",
   "execution_count": 146,
   "metadata": {},
   "outputs": [
    {
     "name": "stdout",
     "output_type": "stream",
     "text": [
      "{1: 'a', 2: 'b', 3: 'c', 4: 'd', 5: 'e', 6: 'f', 7: 'g', 8: 'h', 9: 'i', 10: 'j', 11: 'k', 12: 'l', 13: 'm', 14: 'n', 15: 'o', 16: 'p', 17: 'q', 18: 'r', 19: 's', 20: 't', 21: 'u', 22: 'v', 23: 'w', 24: 'x', 25: 'y', 26: 'z', 0: '.'}\n"
     ]
    }
   ],
   "source": [
    "# build the vocabulary of characters and mappings to/from integers\n",
    "chars = sorted(list(set(''.join(words))))\n",
    "stoi = {s: i+1 for i, s in enumerate(chars)}\n",
    "stoi['.'] = 0\n",
    "itos = {i: s for s, i in stoi.items()}\n",
    "print(itos)"
   ]
  },
  {
   "cell_type": "code",
   "execution_count": 147,
   "metadata": {},
   "outputs": [
    {
     "name": "stdout",
     "output_type": "stream",
     "text": [
      "emma\n",
      "... -----> e\n",
      "..e -----> m\n",
      ".em -----> m\n",
      "emm -----> a\n",
      "mma -----> .\n",
      "olivia\n",
      "... -----> o\n",
      "..o -----> l\n",
      ".ol -----> i\n",
      "oli -----> v\n",
      "liv -----> i\n",
      "ivi -----> a\n",
      "via -----> .\n",
      "ava\n",
      "... -----> a\n",
      "..a -----> v\n",
      ".av -----> a\n",
      "ava -----> .\n",
      "isabella\n",
      "... -----> i\n",
      "..i -----> s\n",
      ".is -----> a\n",
      "isa -----> b\n",
      "sab -----> e\n",
      "abe -----> l\n",
      "bel -----> l\n",
      "ell -----> a\n",
      "lla -----> .\n",
      "sophia\n",
      "... -----> s\n",
      "..s -----> o\n",
      ".so -----> p\n",
      "sop -----> h\n",
      "oph -----> i\n",
      "phi -----> a\n",
      "hia -----> .\n"
     ]
    }
   ],
   "source": [
    "# build the dataset:\n",
    "\n",
    "block_size = 3    # context length: how many characters do we take to predict the next character?\n",
    "X, Y = [], []\n",
    "for w in words[:5]:     # take the first 5 words:\n",
    "  print(w)\n",
    "  context = [0] * block_size\n",
    "  for ch in w + '.':\n",
    "    ix = stoi[ch]\n",
    "    X.append(context)\n",
    "    Y.append(ix)\n",
    "    print(''.join(itos[i] for i in context), '----->', itos[ix])\n",
    "    context = context[1:] + [ix]      # crop and append\n",
    "\n",
    "X = torch.tensor(X)\n",
    "Y = torch.tensor(Y)"
   ]
  },
  {
   "cell_type": "code",
   "execution_count": 148,
   "metadata": {},
   "outputs": [
    {
     "data": {
      "text/plain": [
       "(torch.Size([32, 3]), torch.int64, torch.Size([32]), torch.int64)"
      ]
     },
     "execution_count": 148,
     "metadata": {},
     "output_type": "execute_result"
    }
   ],
   "source": [
    "X.shape, X.dtype, Y.shape, Y.dtype"
   ]
  },
  {
   "cell_type": "markdown",
   "metadata": {},
   "source": [
    "* `X` - 输入字符的索引，长度与`block_size`有关。例如 abc -> 就是 (1, 2, 3)\n",
    "* `Y` - 紧跟在`X`后面的那个字符的索引（长度为1）。例如 d -> 就是(4)\n",
    "\n",
    "### 1. 论文\n",
    "#### 1.1. Context\n",
    "下面我们初始化一个 lookup table `C`，且假设它有 2列。<span style=\"color: cyan\">我目前对于`C`的作用的理解是：它相当于一个词相似度的查询表，通过该表，你可以通过词相似度将原本的高维矩阵 降维。例如这里我们就降维成了 2列</span>\n",
    "```python\n",
    "C = torch.randn((27, 2))\n",
    "```"
   ]
  },
  {
   "cell_type": "code",
   "execution_count": 149,
   "metadata": {},
   "outputs": [
    {
     "data": {
      "text/plain": [
       "tensor([ 1.7508, -0.4100])"
      ]
     },
     "execution_count": 149,
     "metadata": {},
     "output_type": "execute_result"
    }
   ],
   "source": [
    "C = torch.randn((27, 2))    # lookup table, start with an exmaple of 2 columns\n",
    "C[5]"
   ]
  },
  {
   "cell_type": "markdown",
   "metadata": {},
   "source": []
  },
  {
   "cell_type": "markdown",
   "metadata": {},
   "source": [
    "根据 [这篇论文](https://www.jmlr.org/papers/volume3/bengio03a/bengio03a.pdf)下图所述，不难发现，该论文所提出的神经网络架构无非就是在传统的MLP的前边添加了一个 Context Layer。所以我们需要上面的`C` 这个lookup table。\n",
    "\n",
    "\n",
    "![imge](./img/Screenshot%202024-08-13%20at%2014.46.05.png)\n",
    "\n",
    "<p style=\"font-size:18px\">关于PyTorch中Tensor的索引规则</span>\n",
    "\n",
    "`X` 是 32 x 3 的矩阵，其元素是 某个 字符串block 中每个字符的 index\n",
    "`C` 是 27 x 2的随机矩阵。例如: `[[1, 2], [3, 4], [5, 6], ...]`\n",
    "在介绍`C[X]`的结果之前先来看一下PyTorch中Tensor的索引规则： \n",
    "`C[[0, 0, 0]]` 给出的就是 3 x 2 的矩阵，该矩阵的元素是 C 矩阵的第 0 行，第 0 行，第 0 行。`[[1, 2], [1, 2], [1, 2]]`\n",
    "如果是 `C[[0, 0, 2], [1, 1, 1]]`，则给出的结果是 3 x 1的矩阵，`[2, 2, 6]` （第0行第1列，第0行第1列，第2行第1列）\n",
    "那么`C[X]` 给出的是什么？——给出的是一个 32 x 3 x 2 的矩阵。举个例子：\n",
    "\n",
    "```python\n",
    "C = torch.tensor([[1, 2], [3, 4], [5, 6]], )\n",
    "X = torch.tensor([[0, 0, 0], [1, 1, 1], [2, 2, 2], [0, 1, 2]])\n",
    ">>> C[X] = [[[1, 2],[1, 2],[1, 2]],\n",
    "            [[3, 4],[3, 4],[3, 4]],\n",
    "            [[5, 6],[5, 6],[5, 6]],\n",
    "            [[1, 2],[3, 4],[5, 6]]]\n",
    "```\n",
    "\n",
    "\n",
    "#### 1.2. Embedding"
   ]
  },
  {
   "cell_type": "code",
   "execution_count": 150,
   "metadata": {},
   "outputs": [
    {
     "data": {
      "text/plain": [
       "torch.Size([32, 3, 2])"
      ]
     },
     "execution_count": 150,
     "metadata": {},
     "output_type": "execute_result"
    }
   ],
   "source": [
    "emb = C[X]    # 形状应该是 32 x 3 x 2\n",
    "emb.shape "
   ]
  },
  {
   "cell_type": "markdown",
   "metadata": {},
   "source": [
    "embedding之后得到的是 `emb` 这个 32 x 3 x 2 的矩阵。根据上面的论文，它需要与权重矩阵 `W1` 做矩阵乘法。由于 3 x 2 = 6，所以我们需要的`W1` 应该是一个 6 行的矩阵。至于列数，我们假设是100 列。此外还需要加上一个 bias 列 `b1`\n",
    "\n",
    "我们希望进行的是 `emb @ W1 + b1`。但不难发现 `emb` 和 `W1` 形状不匹配而无法直接矩阵相乘。\n",
    "我们可以这样做：</br>\n",
    "```python\n",
    "torch.cat([emb[:, 0, :], emb[:, 1, :], emb[:, 2, :]], dim=1)\n",
    "```\n",
    "\n",
    "或者\n",
    "\n",
    "```python\n",
    "torch.cat(torch.unbind(emb, dim=1), dim=1)\n",
    "``` \n",
    "\n",
    "[torch.unbind()](https://pytorch.org/docs/stable/generated/torch.unbind.html)</br>\n",
    "[torch.cat()](https://pytorch.org/docs/stable/generated/torch.cat.html)\n",
    "\n",
    "Karpathy 推荐的做法是使用 [torch.view()](https://pytorch.org/docs/stable/generated/torch.Tensor.view.html) 方法。简单理解，该方法就类似于SQL 中的 view，相当于是一个临时的数据 。在内存的使用上它<span style=\"font-size:18px\">非常</span>节省。所以上面给出的两种代码还可以这样写：\n",
    "\n",
    "```python\n",
    "emb.view(32, 6)\n",
    "```\n",
    "\n",
    "如果你好奇，可以这样对比他们的输出结果：\n",
    "```python\n",
    "emb.view(32, 6) == torch.cat(torch.unbind(emb, dim=1), dim=1)\n",
    "```\n",
    "\n",
    "最后我们整理一下我们需要的 神经网络的第一层就是：\n",
    "```python\n",
    "emb.view(32, 6) @ W1 + b1\n",
    "```\n",
    "\n",
    "#### 1.3. 搭建神经网络"
   ]
  },
  {
   "cell_type": "code",
   "execution_count": 151,
   "metadata": {},
   "outputs": [
    {
     "data": {
      "text/plain": [
       "torch.Size([32, 100])"
      ]
     },
     "execution_count": 151,
     "metadata": {},
     "output_type": "execute_result"
    }
   ],
   "source": [
    "W1 = torch.randn((6, 100))    # 6 x 100 矩阵\n",
    "b1 = torch.randn((1, 100))    # 1 x 100 矩阵\n",
    "h = emb.view(32, 6) @ W1 + b1\n",
    "h.shape"
   ]
  },
  {
   "cell_type": "markdown",
   "metadata": {},
   "source": [
    "创建神经网络的最后一层。权重矩阵`W2`应该是 100 x 27 的。100来自于上一层，27是因为我们有27个字符。\n",
    "\n",
    "所以\n",
    "\n",
    "```python \n",
    "logits = h @ W2 + b2\n",
    "```\n",
    "\n",
    "，`h`就是上一层的输出结果（32 x 100）"
   ]
  },
  {
   "cell_type": "code",
   "execution_count": 152,
   "metadata": {},
   "outputs": [
    {
     "data": {
      "text/plain": [
       "torch.Size([32, 27])"
      ]
     },
     "execution_count": 152,
     "metadata": {},
     "output_type": "execute_result"
    }
   ],
   "source": [
    "W2 = torch.rand((100, 27))\n",
    "b2 = torch.randn(27)\n",
    "\n",
    "logits = h @ W2 + b2\n",
    "\n",
    "logits.shape"
   ]
  },
  {
   "cell_type": "markdown",
   "metadata": {},
   "source": [
    "计算下一个应该出现的字符的概率和 loss"
   ]
  },
  {
   "cell_type": "code",
   "execution_count": 153,
   "metadata": {},
   "outputs": [
    {
     "data": {
      "text/plain": [
       "tensor(12.6807)"
      ]
     },
     "execution_count": 153,
     "metadata": {},
     "output_type": "execute_result"
    }
   ],
   "source": [
    "counts = logits.exp()                               # e^logits\n",
    "prob = counts / counts.sum(axis=1, keepdims=True)   # normalize probability by counts\n",
    "loss = -prob[torch.arange(32), Y].log().mean()\n",
    "loss"
   ]
  },
  {
   "cell_type": "markdown",
   "metadata": {},
   "source": [
    "上面一系列的计算与 PyTorch中的 `.cross_entropy()`方法给出的结果是一样的。\n",
    "\n",
    "PyTorch 更好的地方在于，它更加节省空间且考虑了算法的并行，所以更省时间。"
   ]
  },
  {
   "cell_type": "code",
   "execution_count": 154,
   "metadata": {},
   "outputs": [
    {
     "data": {
      "text/plain": [
       "tensor(12.6807)"
      ]
     },
     "execution_count": 154,
     "metadata": {},
     "output_type": "execute_result"
    }
   ],
   "source": [
    "F.cross_entropy(logits, Y)"
   ]
  },
  {
   "cell_type": "markdown",
   "metadata": {},
   "source": [
    "所以我们将整个 1.3. 部分的 神经网络的 搭建过程简化如下："
   ]
  },
  {
   "cell_type": "code",
   "execution_count": 155,
   "metadata": {},
   "outputs": [
    {
     "data": {
      "text/plain": [
       "tensor(5.4425)"
      ]
     },
     "execution_count": 155,
     "metadata": {},
     "output_type": "execute_result"
    }
   ],
   "source": [
    "# forward pass\n",
    "emb = C[X]\n",
    "h = torch.tanh(emb.view(-1, 6) @ W1 + b1)     # (32, 100)\n",
    "logits = h @ W2 + b2                          # (32, 27)\n",
    "\n",
    "# 如下是计算cross entropy 的 被简化的部分：\n",
    "# counts = logits.exp()\n",
    "# prob = counts / counts.sum(axis=1, keepdims=True)\n",
    "# loss = -prob[torch.arange(32), Y].log().mean()\n",
    "\n",
    "loss = F.cross_entropy(logits, Y)             # 通过比较 真实值Y 和计算得到的 logits 计算 cross entropy\n",
    "loss                                          # 这里的值可能与上面的不同"
   ]
  },
  {
   "cell_type": "markdown",
   "metadata": {},
   "source": [
    "#### 1.4. 搭建和训练神经网络"
   ]
  },
  {
   "cell_type": "code",
   "execution_count": 156,
   "metadata": {},
   "outputs": [
    {
     "name": "stdout",
     "output_type": "stream",
     "text": [
      "5.442534446716309\n",
      "4.849839210510254\n",
      "4.320061683654785\n",
      "3.8538432121276855\n",
      "3.454399824142456\n",
      "3.1207871437072754\n",
      "2.848634719848633\n",
      "2.629891872406006\n",
      "2.4528212547302246\n",
      "2.3055264949798584\n"
     ]
    }
   ],
   "source": [
    "# 将所有参数的 “梯度” 设置为True\n",
    "parameters = [C, W1, b1, W2, b2]\n",
    "for p in parameters:\n",
    "  p.requires_grad = True \n",
    "\n",
    "for _ in range(10):\n",
    "  # forward pass\n",
    "  emb = C[X]\n",
    "  h = torch.tanh(emb.view(-1, 6) @ W1 + b1)     # (32, 100)\n",
    "  logits = h @ W2 + b2                          # (32, 27)\n",
    "  loss = F.cross_entropy(logits, Y)             # 通过比较 真实值Y 和计算得到的 logits 计算 cross entropy\n",
    "  print(loss.item())                            # 这里的值可能与上面的不同\n",
    "\n",
    "  # backward pass\n",
    "  for p in parameters:\n",
    "    p.grad = None\n",
    "  loss.backward()\n",
    "\n",
    "  # update\n",
    "  for p in parameters:\n",
    "    p.data += -0.1 * p.grad\n"
   ]
  },
  {
   "cell_type": "markdown",
   "metadata": {},
   "source": [
    "这个神经网络很容易fit，是因为我们的输入只有32个。而我们的参数的个数有3481个\n",
    "```python\n",
    "sum(p.nelement() for p in parameters) # number of parameters\n",
    ">>> 3481\n",
    "```\n",
    "\n",
    "我们单选出 logits第一行的最大值与 真实值 `Y`对比如下。可以发现大部分都是匹配的。不匹配的几个的主要原因是，在最一开始的时候我们有:\n",
    "\n",
    "... ---> e\n",
    "... ---> m\n",
    "... ---> m\n",
    "... ---> a\n",
    "\n",
    "这就导致神经网络不知道 `...` 到底该如何匹配。此外，由于到目前为止的神经网络的input是只有 emma 这一个人的。但如果我们将所有人名都input进来，那么3481个参数就不够了。\n"
   ]
  },
  {
   "cell_type": "code",
   "execution_count": 157,
   "metadata": {},
   "outputs": [
    {
     "data": {
      "text/plain": [
       "(torch.return_types.max(\n",
       " values=tensor([ 3.3145,  1.3359,  5.2056, 10.7195,  1.0646,  3.3145,  4.9016,  4.6791,\n",
       "         -5.5881, -2.8959, -0.9856, -3.1227,  3.3145,  1.3771,  6.5715,  3.3018,\n",
       "          3.3145,  2.2145,  5.5291,  2.7120,  3.9454,  2.0245,  2.3574,  5.4360,\n",
       "         -4.7558,  3.3145,  3.0180,  6.7763,  6.1226,  2.3978, -3.6548, -3.2720],\n",
       "        grad_fn=<MaxBackward0>),\n",
       " indices=tensor([15, 13, 12, 18,  0, 15, 19,  1,  0,  0,  1,  0, 15,  5, 12,  1, 15, 16,\n",
       "          3, 11, 12, 12,  1,  1,  0, 15, 15, 16,  1, 26,  1,  0])),\n",
       " tensor([ 5, 13, 13,  1,  0, 15, 12,  9, 22,  9,  1,  0,  1, 22,  1,  0,  9, 19,\n",
       "          1,  2,  5, 12, 12,  1,  0, 19, 15, 16,  8,  9,  1,  0]))"
      ]
     },
     "execution_count": 157,
     "metadata": {},
     "output_type": "execute_result"
    }
   ],
   "source": [
    "logits.max(1), Y"
   ]
  },
  {
   "cell_type": "markdown",
   "metadata": {},
   "source": [
    "#### 1.5. 将所有人名放入神经网络进行训练 + Mini-batch\n",
    "\n",
    "下面的部分我们引入了 Mini-batch 的方法来加速训练。它的原理简单来说就是我们在每次训练的周期上，只挑选出原数据的一小部分进行训练。我们的原数据 `X.shape[0]` 是228146。Mini-batch之后数据量变小。下面的具体做法是\n",
    "```python\n",
    "ix = torch.randint(0, X.shape[0], (32, ))     # 生成32个 [0, 228146) 的随机整数\n",
    "```\n",
    "这些生成的随机数可以用作随机索引，从228146个input中挑选出32个随机数据用作当前神经网络的训练。\n",
    "\n",
    "所以我们不再使用以前的 `C[X]`， `Y`；而是使用 `C[X[ix]]`, `Y[ix]`"
   ]
  },
  {
   "cell_type": "code",
   "execution_count": 158,
   "metadata": {},
   "outputs": [
    {
     "name": "stdout",
     "output_type": "stream",
     "text": [
      "torch.Size([228146, 3]) torch.int64 torch.Size([228146]) torch.int64\n",
      "3.6541337966918945\n"
     ]
    }
   ],
   "source": [
    "# build the dataset:\n",
    "block_size = 3    # context length: how many characters do we take to predict the next character?\n",
    "X, Y = [], []\n",
    "for w in words:     # take all names\n",
    "  # print(w)\n",
    "  context = [0] * block_size\n",
    "  for ch in w + '.':\n",
    "    ix = stoi[ch]\n",
    "    X.append(context)\n",
    "    Y.append(ix)\n",
    "    # print(''.join(itos[i] for i in context), '----->', itos[ix])\n",
    "    context = context[1:] + [ix]      # crop and append\n",
    "\n",
    "X = torch.tensor(X)\n",
    "Y = torch.tensor(Y)\n",
    "print(X.shape, X.dtype, Y.shape, Y.dtype)\n",
    "\n",
    "# 初始化神经网络参数\n",
    "g = torch.Generator().manual_seed(214783647)\n",
    "C = torch.randn((27, 2), generator=g)    # lookup table, start with an exmaple of 2 columns\n",
    "W1 = torch.randn((6, 100), generator=g)    # 6 x 100 矩阵\n",
    "b1 = torch.randn(100, generator=g)    # 1 x 100 矩阵\n",
    "W2 = torch.randn((100, 27), generator=g)\n",
    "b2 = torch.randn(27, generator=g)\n",
    "\n",
    "# 将所有参数的 “梯度” 设置为True\n",
    "parameters = [C, W1, b1, W2, b2]\n",
    "for p in parameters:\n",
    "  p.requires_grad = True \n",
    "\n",
    "# 训练神经网络\n",
    "for _ in range(100):\n",
    "  # mini-batch\n",
    "  ix = torch.randint(0, X.shape[0], (32, ))\n",
    "\n",
    "  # forward pass\n",
    "  emb = C[X[ix]]                                # (32, 3, 2)\n",
    "  h = torch.tanh(emb.view(-1, 6) @ W1 + b1)     # (32, 100)\n",
    "  logits = h @ W2 + b2                          # (32, 27)\n",
    "  loss = F.cross_entropy(logits, Y[ix])             # 通过比较 真实值Y 和计算得到的 logits 计算 cross entropy\n",
    "  # print(loss.item())                            # 这里的值可能与上面的不同\n",
    "\n",
    "  # backward pass\n",
    "  for p in parameters:\n",
    "    p.grad = None\n",
    "  loss.backward()\n",
    "\n",
    "  # update\n",
    "  for p in parameters:\n",
    "    p.data += -0.1 * p.grad\n",
    "\n",
    "print(loss.item())"
   ]
  },
  {
   "cell_type": "markdown",
   "metadata": {},
   "source": [
    "#### 1.6. Learning Rate如何确定？\n",
    "\n",
    "接下来我们可以尝试1000种不同的 learning rate 的值。稍有不同的是，我们先生成 [0.001, 0.002, 0.003, ..., 1] (包含)  等差数列，然后让概数列作为 10的幂。例如：`10 ** 0.002`。如此一来我们的learning rate就是一个 底数为10 的指数函数。\n",
    "```python\n",
    "lre = torch.linspace(0.001, 1, 1000)    # learning rate exponent。生成等差数列 \n",
    "lrs = 10 ** lre                         # learning rate \n",
    "```\n",
    "我们将计算出来的 learning rate 放到列表 `lri` 中。然后将不同 learning rate所对应的不同的 loss 放到另一个列表 `lossi` 中。为了后续绘图，我们还可以记录`lrei`，也就是每个learning rate所对应的 指数幂。\n",
    "\n",
    "<span style=\"color:cyan\">下面一个cell的代码与 1.5 的不同只有 定义 learning rate 和 训练神经网络这两部分</span>\n",
    "\n",
    "最后我们对所有1000 个 learning rate 及其对应的loss 绘图。"
   ]
  },
  {
   "cell_type": "code",
   "execution_count": 159,
   "metadata": {},
   "outputs": [
    {
     "name": "stdout",
     "output_type": "stream",
     "text": [
      "torch.Size([228146, 3]) torch.int64 torch.Size([228146]) torch.int64\n"
     ]
    }
   ],
   "source": [
    "# build the dataset:\n",
    "block_size = 3    # context length: how many characters do we take to predict the next character?\n",
    "X, Y = [], []\n",
    "for w in words:     # take all names\n",
    "  # print(w)\n",
    "  context = [0] * block_size\n",
    "  for ch in w + '.':\n",
    "    ix = stoi[ch]\n",
    "    X.append(context)\n",
    "    Y.append(ix)\n",
    "    # print(''.join(itos[i] for i in context), '----->', itos[ix])\n",
    "    context = context[1:] + [ix]      # crop and append\n",
    "\n",
    "X = torch.tensor(X)\n",
    "Y = torch.tensor(Y)\n",
    "print(X.shape, X.dtype, Y.shape, Y.dtype)\n",
    "\n",
    "# 初始化神经网络参数\n",
    "g = torch.Generator().manual_seed(214783647)\n",
    "C = torch.randn((27, 2), generator=g)    # lookup table, start with an exmaple of 2 columns\n",
    "W1 = torch.randn((6, 100), generator=g)    # 6 x 100 矩阵\n",
    "b1 = torch.randn(100, generator=g)    # 1 x 100 矩阵\n",
    "W2 = torch.randn((100, 27), generator=g)\n",
    "b2 = torch.randn(27, generator=g)\n",
    "\n",
    "# 将所有参数的 “梯度” 设置为True\n",
    "parameters = [C, W1, b1, W2, b2]\n",
    "for p in parameters:\n",
    "  p.requires_grad = True \n",
    "\n",
    "# 定义 learning rate\n",
    "lri, lossi, lrei = [], [], []\n",
    "lre = torch.linspace(0.001, 1, 1000)    # learning rate exponent。生成等差数列 \n",
    "lrs = 10 ** lre                         # learning rate \n",
    "\n",
    "# 训练神经网络\n",
    "for i in range(1000):\n",
    "  # mini-batch\n",
    "  ix = torch.randint(0, X.shape[0], (32, ))\n",
    "\n",
    "  # forward pass\n",
    "  emb = C[X[ix]]                                # (32, 3, 2)\n",
    "  h = torch.tanh(emb.view(-1, 6) @ W1 + b1)     # (32, 100)\n",
    "  logits = h @ W2 + b2                          # (32, 27)\n",
    "  loss = F.cross_entropy(logits, Y[ix])             # 通过比较 真实值Y 和计算得到的 logits 计算 cross entropy\n",
    "  # print(loss.item())                            # 这里的值可能与上面的不同\n",
    "\n",
    "  # backward pass\n",
    "  for p in parameters:\n",
    "    p.grad = None\n",
    "  loss.backward()\n",
    "\n",
    "  # update\n",
    "  lr = lrs[i]\n",
    "  for p in parameters:\n",
    "    p.data += -0.1 * p.grad\n",
    "\n",
    "  # track stats:\n",
    "  lri.append(lr)    # lr is learning rate\n",
    "  lrei.append(lre[i])\n",
    "  lossi.append(loss.item())     # 记录每个不同的 learning rate 所对应的 loss"
   ]
  },
  {
   "cell_type": "code",
   "execution_count": 160,
   "metadata": {},
   "outputs": [
    {
     "data": {
      "text/plain": [
       "Text(0, 0.5, 'loss')"
      ]
     },
     "execution_count": 160,
     "metadata": {},
     "output_type": "execute_result"
    },
    {
     "data": {
      "image/png": "[encoded data removed]",
      "text/plain": [
       "<Figure size 640x480 with 1 Axes>"
      ]
     },
     "metadata": {},
     "output_type": "display_data"
    }
   ],
   "source": [
    "plt.plot(lri, lossi)\n",
    "plt.xlabel('learning rate')\n",
    "plt.ylabel('loss')"
   ]
  },
  {
   "cell_type": "markdown",
   "metadata": {},
   "source": [
    "上面的图比较直观的说明了，当learning rate为 1.0 左右的时候，再继续增大learning rate已经无法继续降低 loss了。"
   ]
  },
  {
   "cell_type": "code",
   "execution_count": 161,
   "metadata": {},
   "outputs": [
    {
     "data": {
      "text/plain": [
       "Text(0, 0.5, 'loss')"
      ]
     },
     "execution_count": 161,
     "metadata": {},
     "output_type": "execute_result"
    },
    {
     "data": {
      "image/png": "[encoded data removed]",
      "text/plain": [
       "<Figure size 640x480 with 1 Axes>"
      ]
     },
     "metadata": {},
     "output_type": "display_data"
    }
   ],
   "source": [
    "plt.plot(lrei, lossi)\n",
    "plt.xlabel('learning rate')\n",
    "plt.ylabel('loss')"
   ]
  },
  {
   "cell_type": "markdown",
   "metadata": {},
   "source": [
    "这里的图更容易看出，我们应该取 10 ** 0.1\n",
    "\n",
    "所以我们可以做如下步骤：\n",
    "1. 把上面的代码中的 learning rate 直接换成 10 ** 0.1 （1.2589左右） 然后运行 10000 次；\n",
    "2. 之后，将 learning rate 换成 0.1 （减少一个量级），然后再运行 10000 次；\n",
    "3. 然后，再将 learning rate 换成0.01 （再减少一个量级），运行 10000 次；\n",
    "Karpathy展示的时候，他的loss会逐步递减到 2.308 左右。但由于这些步骤比较trivial，就不赘述。\n",
    "\n",
    "接下来我们看:\n",
    "\n",
    "#### 1.7. Training, Dev/Validation, Testing  (80%, 10%, 10%)"
   ]
  },
  {
   "cell_type": "code",
   "execution_count": 162,
   "metadata": {},
   "outputs": [
    {
     "name": "stdout",
     "output_type": "stream",
     "text": [
      "torch.Size([182778, 3]) torch.Size([182778])\n",
      "torch.Size([22633, 3]) torch.Size([22633])\n",
      "torch.Size([22735, 3]) torch.Size([22735])\n"
     ]
    }
   ],
   "source": [
    "# building the dataset\n",
    "def build_dataset(words):\n",
    "  block_size = 3      # context length: how many characters do we take to predict the next one?\n",
    "  X, Y = [], []\n",
    "  for w in words:\n",
    "    context = [0] * block_size\n",
    "    for ch in w + '.':\n",
    "      ix = stoi[ch]\n",
    "      X.append(context)\n",
    "      Y.append(ix)\n",
    "      context = context[1:] + [ix]      # crop and append\n",
    "  \n",
    "  X = torch.tensor(X)\n",
    "  Y = torch.tensor(Y)\n",
    "  print(X.shape, Y.shape)\n",
    "  return X, Y\n",
    "\n",
    "\n",
    "import random\n",
    "random.seed(42)\n",
    "n1 = int(0.8 * len(words))\n",
    "n2 = int(0.9 * len(words))\n",
    "\n",
    "Xtr, Ytr = build_dataset(words[:n1])\n",
    "Xdev, Ydev = build_dataset(words[n1:n2])\n",
    "Xte, Yte = build_dataset(words[n2:])"
   ]
  },
  {
   "cell_type": "code",
   "execution_count": 163,
   "metadata": {},
   "outputs": [
    {
     "name": "stdout",
     "output_type": "stream",
     "text": [
      "所有人名个数： 32033 \n",
      " training set的人名个数： 25626 \n",
      " dev（也叫validation）set的人名个数： 28829 \n",
      " testing set的人名个数： 3203\n"
     ]
    }
   ],
   "source": [
    "print('所有人名个数：', len(words), '\\n',\n",
    "      'training set的人名个数：', n1, '\\n',\n",
    "      'dev（也叫validation）set的人名个数：', n2, '\\n',\n",
    "      'testing set的人名个数：', n2 - n1)"
   ]
  },
  {
   "cell_type": "markdown",
   "metadata": {},
   "source": [
    "上面将原数据按照8:1:1 切分之后，我们用training set来训练神经网络。我们将原来的 `X`, `Y`替换成`Xtr`, `Ytr`"
   ]
  },
  {
   "cell_type": "code",
   "execution_count": 164,
   "metadata": {},
   "outputs": [
    {
     "name": "stdout",
     "output_type": "stream",
     "text": [
      "2.650273084640503\n"
     ]
    }
   ],
   "source": [
    "# 初始化神经网络参数\n",
    "g = torch.Generator().manual_seed(214783647)\n",
    "C = torch.randn((27, 2), generator=g)    # lookup table, start with an exmaple of 2 columns\n",
    "W1 = torch.randn((6, 100), generator=g)    # 6 x 100 矩阵\n",
    "b1 = torch.randn(100, generator=g)    # 1 x 100 矩阵\n",
    "W2 = torch.randn((100, 27), generator=g)\n",
    "b2 = torch.randn(27, generator=g)\n",
    "\n",
    "# 将所有参数的 “梯度” 设置为True\n",
    "parameters = [C, W1, b1, W2, b2]\n",
    "for p in parameters:\n",
    "  p.requires_grad = True \n",
    "\n",
    "# 定义 learning rate\n",
    "lri, lossi, lrei = [], [], []\n",
    "lre = torch.linspace(0.001, 1, 1000)    # learning rate exponent。生成等差数列 \n",
    "lrs = 10 ** lre                         # learning rate \n",
    "\n",
    "# 训练神经网络\n",
    "for i in range(10000):\n",
    "  # mini-batch\n",
    "  ix = torch.randint(0, Xtr.shape[0], (32, ))\n",
    "\n",
    "  # forward pass\n",
    "  emb = C[Xtr[ix]]                                # (32, 3, 2)\n",
    "  h = torch.tanh(emb.view(-1, 6) @ W1 + b1)     # (32, 100)\n",
    "  logits = h @ W2 + b2                          # (32, 27)\n",
    "  loss = F.cross_entropy(logits, Ytr[ix])             # 通过比较 真实值Y 和计算得到的 logits 计算 cross entropy\n",
    "  # print(loss.item())                            # 这里的值可能与上面的不同\n",
    "\n",
    "  # backward pass\n",
    "  for p in parameters:\n",
    "    p.grad = None\n",
    "  loss.backward()\n",
    "\n",
    "  # update\n",
    "  # lr = lrs[i]\n",
    "  lr = 0.01\n",
    "  for p in parameters:\n",
    "    p.data += -lr * p.grad\n",
    "\n",
    "  # # track stats:\n",
    "  # lri.append(lr)    # lr is learning rate\n",
    "  # lrei.append(lre[i])\n",
    "  # lossi.append(loss.item())     # 记录每个不同的 learning rate 所对应的 loss\n",
    "\n",
    "print(loss.item())"
   ]
  },
  {
   "cell_type": "code",
   "execution_count": 165,
   "metadata": {},
   "outputs": [
    {
     "name": "stdout",
     "output_type": "stream",
     "text": [
      "2.4904837608337402\n"
     ]
    }
   ],
   "source": [
    "# check out training loss\n",
    "emb = C[Xtr]                               # 32, 3, 2\n",
    "h = torch.tanh(emb.view(-1, 6) @ W1 + b1)   # (32, 100)\n",
    "logits = h @ W2 + b2                        # (32, 27)\n",
    "loss = F.cross_entropy(logits, Ytr)\n",
    "print(loss.item())"
   ]
  },
  {
   "cell_type": "code",
   "execution_count": 166,
   "metadata": {},
   "outputs": [
    {
     "name": "stdout",
     "output_type": "stream",
     "text": [
      "2.6563947200775146\n"
     ]
    }
   ],
   "source": [
    "# check out validation loss\n",
    "emb = C[Xdev]                               # 32, 3, 2\n",
    "h = torch.tanh(emb.view(-1, 6) @ W1 + b1)   # (32, 100)\n",
    "logits = h @ W2 + b2                        # (32, 27)\n",
    "loss = F.cross_entropy(logits, Ydev)\n",
    "print(loss.item())"
   ]
  },
  {
   "cell_type": "markdown",
   "metadata": {},
   "source": [
    "你可以多次运行上面三个 cell的代码 看神经网络在training, validation, testing上的表现\n",
    "\n",
    "当三者的 loss 相差不大的时候就可以进行下一步了。（Karpathy的结果是 training上 2.3313；validation 上2.3318）\n",
    "\n",
    "接下来我们将增加参数量。我们将 \n",
    "* `W1` 初始化为 6 x 300 的矩阵，\n",
    "* `b1` 初始化为 1 x 300 的矩阵，\n",
    "* `W2` 初始化为 300 x 27 的矩阵，"
   ]
  },
  {
   "cell_type": "code",
   "execution_count": 167,
   "metadata": {},
   "outputs": [
    {
     "name": "stdout",
     "output_type": "stream",
     "text": [
      "2.344205856323242\n"
     ]
    },
    {
     "data": {
      "text/plain": [
       "Text(0, 0.5, 'loss')"
      ]
     },
     "execution_count": 167,
     "metadata": {},
     "output_type": "execute_result"
    },
    {
     "data": {
      "image/png": "[encoded data removed]",
      "text/plain": [
       "<Figure size 640x480 with 1 Axes>"
      ]
     },
     "metadata": {},
     "output_type": "display_data"
    }
   ],
   "source": [
    "# 初始化神经网络参数\n",
    "g = torch.Generator().manual_seed(214783647)\n",
    "C = torch.randn((27, 2), generator=g)    # lookup table, start with an exmaple of 2 columns\n",
    "W1 = torch.randn((6, 300), generator=g)    # 6 x 100 矩阵\n",
    "b1 = torch.randn(300, generator=g)    # 1 x 100 矩阵\n",
    "W2 = torch.randn((300, 27), generator=g)\n",
    "b2 = torch.randn(27, generator=g)\n",
    "\n",
    "# 将所有参数的 “梯度” 设置为True\n",
    "parameters = [C, W1, b1, W2, b2]\n",
    "for p in parameters:\n",
    "  p.requires_grad = True \n",
    "\n",
    "# 定义 learning rate\n",
    "stepi, lri, lossi, lrei = [], [], [], []\n",
    "lre = torch.linspace(0.001, 1, 1000)    # learning rate exponent。生成等差数列 \n",
    "lrs = 10 ** lre                         # learning rate \n",
    "\n",
    "# 训练神经网络\n",
    "for i in range(30000):\n",
    "  # mini-batch\n",
    "  ix = torch.randint(0, Xtr.shape[0], (32, ))\n",
    "\n",
    "  # forward pass\n",
    "  emb = C[Xtr[ix]]                                # (32, 3, 2)\n",
    "  h = torch.tanh(emb.view(-1, 6) @ W1 + b1)     # (32, 100)\n",
    "  logits = h @ W2 + b2                          # (32, 27)\n",
    "  loss = F.cross_entropy(logits, Ytr[ix])             # 通过比较 真实值Y 和计算得到的 logits 计算 cross entropy\n",
    "  # print(loss.item())                            # 这里的值可能与上面的不同\n",
    "\n",
    "  # backward pass\n",
    "  for p in parameters:\n",
    "    p.grad = None\n",
    "  loss.backward()\n",
    "\n",
    "  # update\n",
    "  # lr = lrs[i]\n",
    "  lr = 0.01\n",
    "  for p in parameters:\n",
    "    p.data += -lr * p.grad\n",
    "\n",
    "  # track stats:\n",
    "  stepi.append(i)\n",
    "  lossi.append(loss.item())\n",
    "\n",
    "print(loss.item())\n",
    "\n",
    "plt.plot(stepi, lossi)\n",
    "plt.xlabel('training step')\n",
    "plt.ylabel('loss')"
   ]
  },
  {
   "cell_type": "code",
   "execution_count": 168,
   "metadata": {},
   "outputs": [
    {
     "data": {
      "text/plain": [
       "[<matplotlib.lines.Line2D at 0x177383f40>]"
      ]
     },
     "execution_count": 168,
     "metadata": {},
     "output_type": "execute_result"
    },
    {
     "data": {
      "image/png": "[encoded data removed]",
      "text/plain": [
       "<Figure size 640x480 with 1 Axes>"
      ]
     },
     "metadata": {},
     "output_type": "display_data"
    }
   ],
   "source": [
    "plt.plot(stepi, lossi)"
   ]
  },
  {
   "cell_type": "code",
   "execution_count": 169,
   "metadata": {},
   "outputs": [
    {
     "name": "stdout",
     "output_type": "stream",
     "text": [
      "2.443737745285034\n"
     ]
    }
   ],
   "source": [
    "# check out training loss\n",
    "emb = C[Xtr]                                # 32, 3, 2\n",
    "h = torch.tanh(emb.view(-1, 6) @ W1 + b1)   # (32, 300)\n",
    "logits = h @ W2 + b2                        # (32, 27)\n",
    "loss = F.cross_entropy(logits, Ytr)\n",
    "print(loss.item())"
   ]
  },
  {
   "cell_type": "code",
   "execution_count": 170,
   "metadata": {},
   "outputs": [
    {
     "name": "stdout",
     "output_type": "stream",
     "text": [
      "2.626351833343506\n"
     ]
    }
   ],
   "source": [
    "# check out validation loss\n",
    "emb = C[Xdev]                               # 32, 3, 2\n",
    "h = torch.tanh(emb.view(-1, 6) @ W1 + b1)   # (32, 300)\n",
    "logits = h @ W2 + b2                        # (32, 27)\n",
    "loss = F.cross_entropy(logits, Ydev)\n",
    "print(loss.item())"
   ]
  },
  {
   "cell_type": "markdown",
   "metadata": {},
   "source": [
    "对 embedding vectors进行可视化如下图："
   ]
  },
  {
   "cell_type": "code",
   "execution_count": 171,
   "metadata": {},
   "outputs": [
    {
     "data": {
      "image/png": "[encoded data removed]",
      "text/plain": [
       "<Figure size 600x600 with 1 Axes>"
      ]
     },
     "metadata": {},
     "output_type": "display_data"
    }
   ],
   "source": [
    "plt.figure(figsize=(6, 6))\n",
    "plt.scatter(C[:, 0].data, C[:, 1].data, s=200)\n",
    "for i in range(C.shape[0]):\n",
    "  plt.text(C[i, 0].item(), C[i, 1].item(), itos[i], \n",
    "           ha='center', va='center', color='white')\n",
    "plt.grid('minor')"
   ]
  },
  {
   "cell_type": "markdown",
   "metadata": {},
   "source": [
    "上面的图啥意思呢？\n",
    "\n",
    "1. 首先你会发现 'q' 这个字母最远。是因为这个字母被模型认为与其他字母的相似度最远\n",
    "2. 元音字母 'a', 'e', 'i', 'o', 'u' 他们之间距离最近，意味着它们之间在人名的使用中，一定程度上是可以互换的\n",
    "3. '.' 也非常远。因为这个是特殊字符\n",
    "4. 剩下所有的字母之间非常近\n",
    "\n",
    "> 注意，上面的图在每次运行后的结果可能略有不同。\n",
    "> 1. 例如字母 'y' 有时候会表现出与 'i' 很高的相似度\n",
    "> 2. 'v', 'j', 'm' 有时候会与其余的 非元音字母 有一小段距离，因为这些在人名中相对不常见。等等"
   ]
  },
  {
   "cell_type": "code",
   "execution_count": null,
   "metadata": {},
   "outputs": [],
   "source": []
  },
  {
   "cell_type": "markdown",
   "metadata": {},
   "source": [
    "#### 1.8. 进一步调整神经网络的节点个数\n",
    "\n",
    "将之前的 \n",
    "* `C = torch.randn((27, 2), generator=g)` 改成了`C = torch.randn((27, 10), generator=g)`\n",
    "* `W1 = torch.randn((6, 300), generator=g)` 改成了 `W1 = torch.randn((30, 200), generator=g)`\n",
    "* `b1 = torch.randn(300, generator=g)` 改成了 `b1 = torch.randn(200, generator=g)`\n",
    "* `W2 = torch.randn((300, 27), generator=g)` 改成了 `W2 = torch.randn((200, 27), generator=g)` \n",
    "* `h = torch.tanh(emb.view(-1, 6) @ W1 + b1)` 改成了 `h = torch.tanh(emb.view(-1, 30) @ W1 + b1)`"
   ]
  },
  {
   "cell_type": "code",
   "execution_count": 176,
   "metadata": {},
   "outputs": [
    {
     "name": "stdout",
     "output_type": "stream",
     "text": [
      "2.052870035171509\n"
     ]
    },
    {
     "data": {
      "text/plain": [
       "Text(0, 0.5, 'loss')"
      ]
     },
     "execution_count": 176,
     "metadata": {},
     "output_type": "execute_result"
    },
    {
     "data": {
      "image/png": "[encoded data removed]",
      "text/plain": [
       "<Figure size 640x480 with 1 Axes>"
      ]
     },
     "metadata": {},
     "output_type": "display_data"
    }
   ],
   "source": [
    "# 初始化神经网络参数\n",
    "g = torch.Generator().manual_seed(214783647)\n",
    "C = torch.randn((27, 10), generator=g)    # lookup table, start with an exmaple of 2 columns\n",
    "W1 = torch.randn((30, 200), generator=g)    # 6 x 100 矩阵\n",
    "b1 = torch.randn(200, generator=g)    # 1 x 100 矩阵\n",
    "W2 = torch.randn((200, 27), generator=g)\n",
    "b2 = torch.randn(27, generator=g)\n",
    "\n",
    "# 将所有参数的 “梯度” 设置为True\n",
    "parameters = [C, W1, b1, W2, b2]\n",
    "for p in parameters:\n",
    "  p.requires_grad = True \n",
    "\n",
    "# 定义 learning rate\n",
    "stepi, lri, lossi, lrei = [], [], [], []\n",
    "lre = torch.linspace(0.001, 1, 1000)    # learning rate exponent。生成等差数列 \n",
    "lrs = 10 ** lre                         # learning rate \n",
    "\n",
    "# 训练神经网络\n",
    "for i in range(200000):\n",
    "  # mini-batch\n",
    "  ix = torch.randint(0, Xtr.shape[0], (32, ))\n",
    "\n",
    "  # forward pass\n",
    "  emb = C[Xtr[ix]]                                # (32, 3, 2)\n",
    "  h = torch.tanh(emb.view(-1, 30) @ W1 + b1)      # (32, 200)\n",
    "  logits = h @ W2 + b2                            # (32, 27)\n",
    "  loss = F.cross_entropy(logits, Ytr[ix])         # 通过比较 真实值Y 和计算得到的 logits 计算 cross entropy\n",
    "  # print(loss.item())                            # 这里的值可能与上面的不同\n",
    "\n",
    "  # backward pass\n",
    "  for p in parameters:\n",
    "    p.grad = None\n",
    "  loss.backward()\n",
    "\n",
    "  # update\n",
    "  # lr = lrs[i]\n",
    "  lr = 0.1 if i < 100000 else 0.01\n",
    "  for p in parameters:\n",
    "    p.data += -lr * p.grad\n",
    "\n",
    "  # track stats:\n",
    "  stepi.append(i)\n",
    "  lossi.append(loss.item())\n",
    "\n",
    "print(loss.item())\n",
    "\n",
    "plt.plot(stepi, lossi)\n",
    "plt.xlabel('training step')\n",
    "plt.ylabel('loss')"
   ]
  },
  {
   "cell_type": "code",
   "execution_count": 177,
   "metadata": {},
   "outputs": [
    {
     "name": "stdout",
     "output_type": "stream",
     "text": [
      "2.0793838500976562\n"
     ]
    }
   ],
   "source": [
    "# check out training loss\n",
    "emb = C[Xtr]                                 # 32, 3, 2\n",
    "h = torch.tanh(emb.view(-1, 30) @ W1 + b1)   # (32, 200)\n",
    "logits = h @ W2 + b2                         # (32, 27)\n",
    "loss = F.cross_entropy(logits, Ytr)\n",
    "print(loss.item())"
   ]
  },
  {
   "cell_type": "code",
   "execution_count": 178,
   "metadata": {},
   "outputs": [
    {
     "name": "stdout",
     "output_type": "stream",
     "text": [
      "2.4038987159729004\n"
     ]
    }
   ],
   "source": [
    "# check out validation loss\n",
    "emb = C[Xdev]                                # 32, 3, 2\n",
    "h = torch.tanh(emb.view(-1, 30) @ W1 + b1)   # (32, 200)\n",
    "logits = h @ W2 + b2                         # (32, 27)\n",
    "loss = F.cross_entropy(logits, Ydev)\n",
    "print(loss.item())"
   ]
  },
  {
   "cell_type": "markdown",
   "metadata": {},
   "source": [
    "#### 1.9. 用模型生成人名"
   ]
  },
  {
   "cell_type": "code",
   "execution_count": 179,
   "metadata": {},
   "outputs": [
    {
     "name": "stdout",
     "output_type": "stream",
     "text": [
      "ryel.\n",
      "emellaniya.\n",
      "jaelis.\n",
      "leia.\n",
      "olani.\n",
      "amianne.\n",
      "malin.\n",
      "kaedicksoriel.\n",
      "der.\n",
      "kel.\n",
      "hazsen.\n",
      "reya.\n",
      "ruison.\n",
      "kyn.\n",
      "ladynce.\n",
      "cori.\n",
      "aramora.\n",
      "lomani.\n",
      "eighailey.\n",
      "nyi.\n"
     ]
    }
   ],
   "source": [
    "# sample from the model\n",
    "g = torch.Generator().manual_seed(214783647 + 10)\n",
    "\n",
    "for _ in range(20):\n",
    "  out = []\n",
    "  context = [0] * block_size\n",
    "  while True:\n",
    "    emb = C[torch.tensor([context])]        # (1, block_size, d)\n",
    "    h = torch.tanh(emb.view(1, -1) @ W1 + b1)\n",
    "    logits = h @ W2 + b2\n",
    "    probs = F.softmax(logits, dim=1)\n",
    "    ix = torch.multinomial(probs, num_samples=1, generator=g).item()\n",
    "    context = context[1:] + [ix]\n",
    "    out.append(ix)\n",
    "    if ix == 0:\n",
    "      break\n",
    "  print(''.join(itos[i] for i in out))"
   ]
  },
  {
   "cell_type": "code",
   "execution_count": null,
   "metadata": {},
   "outputs": [],
   "source": []
  },
  {
   "cell_type": "code",
   "execution_count": null,
   "metadata": {},
   "outputs": [],
   "source": []
  },
  {
   "cell_type": "code",
   "execution_count": null,
   "metadata": {},
   "outputs": [],
   "source": []
  },
  {
   "cell_type": "code",
   "execution_count": null,
   "metadata": {},
   "outputs": [],
   "source": []
  }
 ],
 "metadata": {
  "kernelspec": {
   "display_name": "Python 3",
   "language": "python",
   "name": "python3"
  },
  "language_info": {
   "codemirror_mode": {
    "name": "ipython",
    "version": 3
   },
   "file_extension": ".py",
   "mimetype": "text/x-python",
   "name": "python",
   "nbconvert_exporter": "python",
   "pygments_lexer": "ipython3",
   "version": "3.9.6"
  }
 },
 "nbformat": 4,
 "nbformat_minor": 2
}
